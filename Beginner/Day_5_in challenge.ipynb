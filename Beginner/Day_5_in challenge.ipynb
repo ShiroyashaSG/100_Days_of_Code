{
 "cells": [
  {
   "cell_type": "code",
   "execution_count": 4,
   "metadata": {},
   "outputs": [
    {
     "name": "stdout",
     "output_type": "stream",
     "text": [
      "['158', '165', '185', '142', '168']\n",
      "164\n"
     ]
    }
   ],
   "source": [
    "# 🚨 Don't change the code below 👇\n",
    "student_heights = input(\"Input a list of student heights \").split()\n",
    "print(student_heights)\n",
    "for n in range(0, len(student_heights)):\n",
    "  student_heights[n] = int(student_heights[n])\n",
    "# 🚨 Don't change the code above 👆\n",
    "\n",
    "\n",
    "#Write your code below this row 👇\n",
    "count = 0\n",
    "sum_student_height = 0\n",
    "for nn in student_heights:\n",
    "    sum_student_height = sum_student_height + nn \n",
    "    count += 1\n",
    "\n",
    "mind_height = round(sum_student_height/count)\n",
    "\n",
    "print(mind_height)"
   ]
  },
  {
   "cell_type": "code",
   "execution_count": 2,
   "metadata": {},
   "outputs": [
    {
     "name": "stdout",
     "output_type": "stream",
     "text": [
      "[65, 45, 95, 15, 48, 99]\n",
      "The highest score in the class is: 99\n"
     ]
    }
   ],
   "source": [
    "# 🚨 Don't change the code below 👇\n",
    "student_scores = input(\"Input a list of student scores \").split()\n",
    "for n in range(0, len(student_scores)):\n",
    "  student_scores[n] = int(student_scores[n])\n",
    "print(student_scores)\n",
    "# 🚨 Don't change the code above 👆\n",
    "\n",
    "#Write your code below this row 👇\n",
    "count = 0\n",
    "for x in student_scores:\n",
    "  if x > count:\n",
    "    count = x\n",
    "print(f\"The highest score in the class is: {count}\")     \n",
    "\n"
   ]
  },
  {
   "cell_type": "code",
   "execution_count": 5,
   "metadata": {},
   "outputs": [
    {
     "name": "stdout",
     "output_type": "stream",
     "text": [
      "2550\n"
     ]
    }
   ],
   "source": [
    "#Write your code below this row 👇\n",
    "total_sum = 0\n",
    "for i in range(0, 101, 2):\n",
    "    total_sum += i\n",
    "print(total_sum)\n",
    "\n"
   ]
  },
  {
   "cell_type": "code",
   "execution_count": 6,
   "metadata": {},
   "outputs": [
    {
     "name": "stdout",
     "output_type": "stream",
     "text": [
      "1\n",
      "2\n",
      "Fizz\n",
      "4\n",
      "Buzz\n",
      "Fizz\n",
      "7\n",
      "8\n",
      "Fizz\n",
      "Buzz\n",
      "11\n",
      "Fizz\n",
      "13\n",
      "14\n",
      "FizzBuzz\n",
      "16\n",
      "17\n",
      "Fizz\n",
      "19\n",
      "Buzz\n",
      "Fizz\n",
      "22\n",
      "23\n",
      "Fizz\n",
      "Buzz\n",
      "26\n",
      "Fizz\n",
      "28\n",
      "29\n",
      "FizzBuzz\n",
      "31\n",
      "32\n",
      "Fizz\n",
      "34\n",
      "Buzz\n",
      "Fizz\n",
      "37\n",
      "38\n",
      "Fizz\n",
      "Buzz\n",
      "41\n",
      "Fizz\n",
      "43\n",
      "44\n",
      "FizzBuzz\n",
      "46\n",
      "47\n",
      "Fizz\n",
      "49\n",
      "Buzz\n",
      "Fizz\n",
      "52\n",
      "53\n",
      "Fizz\n",
      "Buzz\n",
      "56\n",
      "Fizz\n",
      "58\n",
      "59\n",
      "FizzBuzz\n",
      "61\n",
      "62\n",
      "Fizz\n",
      "64\n",
      "Buzz\n",
      "Fizz\n",
      "67\n",
      "68\n",
      "Fizz\n",
      "Buzz\n",
      "71\n",
      "Fizz\n",
      "73\n",
      "74\n",
      "FizzBuzz\n",
      "76\n",
      "77\n",
      "Fizz\n",
      "79\n",
      "Buzz\n",
      "Fizz\n",
      "82\n",
      "83\n",
      "Fizz\n",
      "Buzz\n",
      "86\n",
      "Fizz\n",
      "88\n",
      "89\n",
      "FizzBuzz\n",
      "91\n",
      "92\n",
      "Fizz\n",
      "94\n",
      "Buzz\n",
      "Fizz\n",
      "97\n",
      "98\n",
      "Fizz\n",
      "Buzz\n"
     ]
    }
   ],
   "source": [
    "#Write your code below this row 👇\n",
    "for i in range (1,101):\n",
    "    if i % 3 == 0 and i % 5 == 0:\n",
    "        print(\"FizzBuzz\")\n",
    "    elif i % 3 == 0:\n",
    "        print(\"Fizz\")\n",
    "    elif i % 5 == 0:\n",
    "        print(\"Buzz\")\n",
    "    else:\n",
    "        print(i)\n"
   ]
  },
  {
   "cell_type": "code",
   "execution_count": 7,
   "metadata": {},
   "outputs": [
    {
     "name": "stdout",
     "output_type": "stream",
     "text": [
      "Welcome to the PyPassword Generator!\n",
      "['+', 'M', ')', 'X', '9', '+', '&', '8', '9', '#', '5', 'y', '5', 'c', 'a']\n",
      "Your new password - +M)X9+&89#5y5ca\n"
     ]
    }
   ],
   "source": [
    "#Password Generator Project\n",
    "import random\n",
    "letters = ['a', 'b', 'c', 'd', 'e', 'f', 'g', 'h', 'i', 'j', 'k', 'l', 'm', 'n', 'o', 'p', 'q', 'r', 's', 't', 'u', 'v', 'w', 'x', 'y', 'z', 'A', 'B', 'C', 'D', 'E', 'F', 'G', 'H', 'I', 'J', 'K', 'L', 'M', 'N', 'O', 'P', 'Q', 'R', 'S', 'T', 'U', 'V', 'W', 'X', 'Y', 'Z']\n",
    "numbers = ['0', '1', '2', '3', '4', '5', '6', '7', '8', '9']\n",
    "symbols = ['!', '#', '$', '%', '&', '(', ')', '*', '+']\n",
    "\n",
    "print(\"Welcome to the PyPassword Generator!\")\n",
    "nr_letters= int(input(\"How many letters would you like in your password?\\n\")) \n",
    "nr_symbols = int(input(f\"How many symbols would you like?\\n\"))\n",
    "nr_numbers = int(input(f\"How many numbers would you like?\\n\"))\n",
    "\n",
    "#Eazy Level - Order not randomised:\n",
    "#e.g. 4 letter, 2 symbol, 2 number = JduE&!91\n",
    "# rnd_letters = [0] * nr_letters\n",
    "# rnd_numbers = [0] * nr_symbols\n",
    "# rnd_symbols = [0] * nr_numbers\n",
    "# rnd = ''\n",
    "# for i in range(0, nr_letters):\n",
    "#   rnd_letters[i] = random.choices(letters)\n",
    "# print(rnd_letters)\n",
    "# for j in range(0, nr_numbers):  \n",
    "#   rnd_numbers[j] = random.choices(numbers)\n",
    "# print(rnd_numbers)\n",
    "# for k in range(0, nr_symbols): \n",
    "#   rnd_symbols[k] = random.choices(symbols)\n",
    "# print(rnd_symbols)\n",
    "# #Hard Level - Order of characters randomised:\n",
    "# #e.g. 4 letter, 2 symbol, 2 number = g^2jk8&P\n",
    "# all_symbols = rnd_letters + rnd_numbers + rnd_symbols\n",
    "# print(all_symbols)\n",
    "# random.shuffle(all_symbols)\n",
    "# print(all_symbols)\n",
    "\n",
    "# for n in range(0, len(all_symbols)): \n",
    "#   rnd += all_symbols[n][0]\n",
    "# print(f\"Your new password - {rnd}\")\n",
    "\n",
    "psw_list = []\n",
    "\n",
    "for i in range(0, nr_letters):\n",
    "  psw_list += (random.choices(letters))\n",
    "for j in range(0, nr_numbers):  \n",
    "  psw_list += (random.choices(numbers))\n",
    "for k in range(0, nr_symbols): \n",
    "  psw_list += (random.choices(symbols))\n",
    "\n",
    "#Hard Level - Order of characters randomised:\n",
    "#e.g. 4 letter, 2 symbol, 2 number = g^2jk8&P\n",
    "random.shuffle(psw_list)\n",
    "print(psw_list)\n",
    "psw = \"\"\n",
    "for n in psw_list: \n",
    "  psw += n\n",
    "print(f\"Your new password - {psw}\")\n"
   ]
  }
 ],
 "metadata": {
  "interpreter": {
   "hash": "3429d451e7910968c94a78f4613de295ba741aca87bd3c29c16918124f1a17b3"
  },
  "kernelspec": {
   "display_name": "Python 3.9.5 64-bit",
   "language": "python",
   "name": "python3"
  },
  "language_info": {
   "codemirror_mode": {
    "name": "ipython",
    "version": 3
   },
   "file_extension": ".py",
   "mimetype": "text/x-python",
   "name": "python",
   "nbconvert_exporter": "python",
   "pygments_lexer": "ipython3",
   "version": "3.9.5"
  },
  "orig_nbformat": 4
 },
 "nbformat": 4,
 "nbformat_minor": 2
}
