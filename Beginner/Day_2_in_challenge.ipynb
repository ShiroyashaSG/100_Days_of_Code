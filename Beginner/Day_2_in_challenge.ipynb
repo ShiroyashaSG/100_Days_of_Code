{
 "cells": [
  {
   "cell_type": "markdown",
   "metadata": {},
   "source": [
    "Day 2 - Understanding Data Types and How to Manipulate Strings\n",
    "int()\n",
    "str()\n",
    "float()\n",
    "boolean"
   ]
  },
  {
   "cell_type": "markdown",
   "metadata": {},
   "source": [
    "Exercise 1 - Data Types"
   ]
  },
  {
   "cell_type": "code",
   "execution_count": 3,
   "metadata": {},
   "outputs": [
    {
     "name": "stdout",
     "output_type": "stream",
     "text": [
      "11\n"
     ]
    }
   ],
   "source": [
    "# 🚨 Don't change the code below 👇\n",
    "two_digit_number = input(\"Type a two digit number: \") #56\n",
    "# 🚨 Don't change the code above 👆\n",
    "\n",
    "####################################\n",
    "#Write your code below this line 👇\n",
    "a = int(two_digit_number[0])\n",
    "b = int(two_digit_number[1])\n",
    "c = a + b\n",
    "print(c)"
   ]
  },
  {
   "cell_type": "markdown",
   "metadata": {},
   "source": [
    "Exercise 2 - BMI Calculator\n",
    "()\n",
    "**\n",
    "*/\n",
    "+-"
   ]
  },
  {
   "cell_type": "code",
   "execution_count": 4,
   "metadata": {},
   "outputs": [
    {
     "name": "stdout",
     "output_type": "stream",
     "text": [
      "23\n"
     ]
    }
   ],
   "source": [
    "# 🚨 Don't change the code below 👇\n",
    "height = input(\"enter your height in m: \")\n",
    "weight = input(\"enter your weight in kg: \")\n",
    "# 🚨 Don't change the code above 👆\n",
    "\n",
    "#Write your code below this line 👇\n",
    "bmi = float(weight)/float(height)**2\n",
    "print (int(bmi))\n",
    "\n",
    "# enter your height in m: 1.9\n",
    "# enter your weight in kg: 85\n",
    "# 23"
   ]
  },
  {
   "cell_type": "code",
   "execution_count": 19,
   "metadata": {},
   "outputs": [
    {
     "name": "stdout",
     "output_type": "stream",
     "text": [
      "2.0\n",
      "<class 'float'>\n"
     ]
    }
   ],
   "source": [
    "print(8/3)\n",
    "print(type(8/3))"
   ]
  },
  {
   "cell_type": "code",
   "execution_count": 5,
   "metadata": {},
   "outputs": [
    {
     "name": "stdout",
     "output_type": "stream",
     "text": [
      "3\n"
     ]
    }
   ],
   "source": [
    "print(round(8/3))"
   ]
  },
  {
   "cell_type": "code",
   "execution_count": 7,
   "metadata": {},
   "outputs": [
    {
     "name": "stdout",
     "output_type": "stream",
     "text": [
      "2\n"
     ]
    }
   ],
   "source": [
    "print(int(8/3))"
   ]
  },
  {
   "cell_type": "code",
   "execution_count": 9,
   "metadata": {},
   "outputs": [
    {
     "name": "stdout",
     "output_type": "stream",
     "text": [
      "2\n",
      "<class 'int'>\n"
     ]
    }
   ],
   "source": [
    "print(8//3)\n",
    "print(type(8//3))"
   ]
  },
  {
   "cell_type": "code",
   "execution_count": 14,
   "metadata": {},
   "outputs": [
    {
     "name": "stdout",
     "output_type": "stream",
     "text": [
      "2.0\n",
      "1.0\n"
     ]
    }
   ],
   "source": [
    "result = 4/2\n",
    "print(result)\n",
    "result /= 2\n",
    "print(result)"
   ]
  },
  {
   "cell_type": "code",
   "execution_count": 15,
   "metadata": {},
   "outputs": [
    {
     "name": "stdout",
     "output_type": "stream",
     "text": [
      "your score is 0, your height is 1.8, your are winning is True\n"
     ]
    }
   ],
   "source": [
    "score = 0\n",
    "height = 1.8\n",
    "isWinning = True\n",
    "#f-String\n",
    "print(f\"your score is {score}, your height is {height}, your are winning is {isWinning}\")"
   ]
  },
  {
   "cell_type": "markdown",
   "metadata": {},
   "source": [
    "Exercise 3 - Life in Weeks\n",
    "https://waitbutwhy.com/2014/05/life-weeks.html"
   ]
  },
  {
   "cell_type": "code",
   "execution_count": 16,
   "metadata": {},
   "outputs": [
    {
     "name": "stdout",
     "output_type": "stream",
     "text": [
      "You have 23360 days, 3328 weeks, and 768 months left.\n"
     ]
    }
   ],
   "source": [
    "# 🚨 Don't change the code below 👇\n",
    "age = input(\"What is your current age?\")\n",
    "# 🚨 Don't change the code above 👆\n",
    "\n",
    "#Write your code below this line 👇\n",
    "age_int = int(age)\n",
    "age_to90 = 90 - age_int\n",
    "months = age_to90 * 12\n",
    "weeks = age_to90 * 52\n",
    "days = age_to90 * 365\n",
    "print(f\"You have {days} days, {weeks} weeks, and {months} months left.\")"
   ]
  },
  {
   "cell_type": "markdown",
   "metadata": {},
   "source": [
    "Tip Calculator\n",
    "Instructions\n",
    "If the bill was $150.00, split between 5 people, with 12% tip.\n",
    "\n",
    "Each person should pay (150.00 / 5) * 1.12 = 33.6\n",
    "\n",
    "Format the result to 2 decimal places = 33.60\n",
    "\n",
    "Thus everyone's share of the total bill is $30.00 plus a $3.60 tip.\n",
    "\n",
    "Tip: There are 2 ways to round a number. You might have to do some Googling to solve this.💪\n",
    "\n",
    "Example Input\n",
    "Welcome to the tip calculator!\n",
    "What was the total bill? $124.56\n",
    "How much tip would you like to give? 10, 12, or 15? 12\n",
    "How many people to split the bill? 7\n",
    "Welcome to the tip calculator!\n",
    "What was the total bill? $124.56\n",
    "How much tip would you like to give? 10, 12, or 15? 12\n",
    "How many people to split the bill? 7\n",
    "Example Output\n",
    "Each person should pay: $19.93"
   ]
  },
  {
   "cell_type": "code",
   "execution_count": 20,
   "metadata": {},
   "outputs": [
    {
     "name": "stdout",
     "output_type": "stream",
     "text": [
      "Welcome to the tip calculator!\n",
      "Each person should pay: $33.6\n",
      "Each person should pay: $33.60\n"
     ]
    }
   ],
   "source": [
    "print(\"Welcome to the tip calculator!\")\n",
    "Total_bill = float(input(\"What was the total bill? $\"))\n",
    "Tip = float(input(\"How much tip would you like to give? 10, 12?, or 15? \"))\n",
    "Cnt_people = int(input(\"How many people to split the bill? \"))\n",
    "Bill_with_tip = (Tip/100 + 1) * Total_bill\n",
    "Person_pay = Bill_with_tip/Cnt_people\n",
    "Earch_person_pay = round(Person_pay,2)\n",
    "Earch_person_pay_2 = \"{:0.2f}\".format(Person_pay)\n",
    "print(f\"Each person should pay: ${Earch_person_pay}\")\n",
    "print(f\"Each person should pay: ${Earch_person_pay_2}\")"
   ]
  }
 ],
 "metadata": {
  "interpreter": {
   "hash": "3429d451e7910968c94a78f4613de295ba741aca87bd3c29c16918124f1a17b3"
  },
  "kernelspec": {
   "display_name": "Python 3.9.5 64-bit",
   "language": "python",
   "name": "python3"
  },
  "language_info": {
   "codemirror_mode": {
    "name": "ipython",
    "version": 3
   },
   "file_extension": ".py",
   "mimetype": "text/x-python",
   "name": "python",
   "nbconvert_exporter": "python",
   "pygments_lexer": "ipython3",
   "version": "3.9.5"
  },
  "orig_nbformat": 4
 },
 "nbformat": 4,
 "nbformat_minor": 2
}
